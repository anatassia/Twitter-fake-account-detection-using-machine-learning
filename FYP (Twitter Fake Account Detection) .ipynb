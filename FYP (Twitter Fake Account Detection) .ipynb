{
 "cells": [
  {
   "cell_type": "code",
   "execution_count": 1,
   "metadata": {
    "scrolled": true
   },
   "outputs": [],
   "source": [
    "import pandas as pd\n",
    "import numpy as np\n",
    "import nltk\n",
    "from sklearn.model_selection import train_test_split\n",
    "from sklearn.feature_selection import  SelectKBest\n",
    "from keras.layers import Dense, Flatten, Conv1D,LSTM\n",
    "from sklearn.feature_selection import f_classif\n",
    "from keras.callbacks import ModelCheckpoint\n",
    "from sklearn.metrics import accuracy_score\n",
    "\n",
    "from keras import backend as K\n",
    "from functools import partial \n",
    "import warnings \n",
    "import keras\n",
    "import matplotlib.pyplot as plt\n",
    "import scikitplot.plotters as skplt\n"
   ]
  },
  {
   "cell_type": "code",
   "execution_count": 2,
   "metadata": {},
   "outputs": [],
   "source": [
    "real_users = pd.read_csv(\"C:\\\\Users\\\\hp\\\\FYP\\\\users.csv\")\n",
    "fake_users = pd.read_csv(\"C:\\\\Users\\\\hp\\\\FYP\\\\fusers.csv\")\n"
   ]
  },
  {
   "cell_type": "code",
   "execution_count": 3,
   "metadata": {},
   "outputs": [],
   "source": [
    "real_users = real_users.drop([\"id\", \"name\", \"screen_name\", \"created_at\", \"url\",\"lang\", \"time_zone\",\"location\", \"default_profile\", \"default_profile_image\", \"geo_enabled\", \"profile_image_url\", \"profile_banner_url\", \"profile_use_background_image\", \"profile_background_image_url_https\", \"profile_text_color\", \"profile_image_url_https\", \"profile_sidebar_border_color\", \"profile_background_tile\", \"profile_sidebar_fill_color\", \"profile_background_image_url\", \"profile_background_color\", \"profile_link_color\", \"description\"], axis=1)\n",
    "fake_users = fake_users.drop([\"id\", \"name\", \"screen_name\", \"created_at\", \"url\", \"lang\", \"time_zone\",\"location\", \"default_profile\", \"default_profile_image\", \"geo_enabled\", \"profile_image_url\", \"profile_banner_url\", \"profile_use_background_image\", \"profile_background_image_url_https\", \"profile_text_color\", \"profile_image_url_https\", \"profile_sidebar_border_color\", \"profile_background_tile\", \"profile_sidebar_fill_color\", \"profile_background_image_url\", \"profile_background_color\", \"profile_link_color\",\"description\"], axis=1)"
   ]
  },
  {
   "cell_type": "code",
   "execution_count": 4,
   "metadata": {},
   "outputs": [],
   "source": [
    "x = pd.concat([real_users,fake_users])\n",
    "X = pd.DataFrame(x)"
   ]
  },
  {
   "cell_type": "code",
   "execution_count": 5,
   "metadata": {
    "scrolled": true
   },
   "outputs": [
    {
     "data": {
      "text/html": [
       "<div>\n",
       "<style scoped>\n",
       "    .dataframe tbody tr th:only-of-type {\n",
       "        vertical-align: middle;\n",
       "    }\n",
       "\n",
       "    .dataframe tbody tr th {\n",
       "        vertical-align: top;\n",
       "    }\n",
       "\n",
       "    .dataframe thead th {\n",
       "        text-align: right;\n",
       "    }\n",
       "</style>\n",
       "<table border=\"1\" class=\"dataframe\">\n",
       "  <thead>\n",
       "    <tr style=\"text-align: right;\">\n",
       "      <th></th>\n",
       "      <th>statuses_count</th>\n",
       "      <th>followers_count</th>\n",
       "      <th>friends_count</th>\n",
       "      <th>favourites_count</th>\n",
       "      <th>listed_count</th>\n",
       "    </tr>\n",
       "  </thead>\n",
       "  <tbody>\n",
       "    <tr>\n",
       "      <th>0</th>\n",
       "      <td>20370</td>\n",
       "      <td>5470</td>\n",
       "      <td>2385</td>\n",
       "      <td>145</td>\n",
       "      <td>52</td>\n",
       "    </tr>\n",
       "    <tr>\n",
       "      <th>1</th>\n",
       "      <td>3131</td>\n",
       "      <td>506</td>\n",
       "      <td>381</td>\n",
       "      <td>9</td>\n",
       "      <td>40</td>\n",
       "    </tr>\n",
       "    <tr>\n",
       "      <th>2</th>\n",
       "      <td>4024</td>\n",
       "      <td>264</td>\n",
       "      <td>87</td>\n",
       "      <td>323</td>\n",
       "      <td>16</td>\n",
       "    </tr>\n",
       "    <tr>\n",
       "      <th>3</th>\n",
       "      <td>40586</td>\n",
       "      <td>640</td>\n",
       "      <td>622</td>\n",
       "      <td>1118</td>\n",
       "      <td>32</td>\n",
       "    </tr>\n",
       "    <tr>\n",
       "      <th>4</th>\n",
       "      <td>2016</td>\n",
       "      <td>62</td>\n",
       "      <td>64</td>\n",
       "      <td>13</td>\n",
       "      <td>0</td>\n",
       "    </tr>\n",
       "  </tbody>\n",
       "</table>\n",
       "</div>"
      ],
      "text/plain": [
       "   statuses_count  followers_count  friends_count  favourites_count  \\\n",
       "0           20370             5470           2385               145   \n",
       "1            3131              506            381                 9   \n",
       "2            4024              264             87               323   \n",
       "3           40586              640            622              1118   \n",
       "4            2016               62             64                13   \n",
       "\n",
       "   listed_count  \n",
       "0            52  \n",
       "1            40  \n",
       "2            16  \n",
       "3            32  \n",
       "4             0  "
      ]
     },
     "execution_count": 5,
     "metadata": {},
     "output_type": "execute_result"
    }
   ],
   "source": [
    "x.shape\n",
    "x.head()"
   ]
  },
  {
   "cell_type": "code",
   "execution_count": 6,
   "metadata": {},
   "outputs": [],
   "source": [
    "y = len (fake_users)*['0'] + len(real_users)*['1']"
   ]
  },
  {
   "cell_type": "code",
   "execution_count": 7,
   "metadata": {},
   "outputs": [
    {
     "data": {
      "text/plain": [
       "statuses_count      int64\n",
       "followers_count     int64\n",
       "friends_count       int64\n",
       "favourites_count    int64\n",
       "listed_count        int64\n",
       "dtype: object"
      ]
     },
     "execution_count": 7,
     "metadata": {},
     "output_type": "execute_result"
    }
   ],
   "source": [
    "x.dtypes"
   ]
  },
  {
   "cell_type": "code",
   "execution_count": 8,
   "metadata": {},
   "outputs": [
    {
     "name": "stdout",
     "output_type": "stream",
     "text": [
      "ER 0       0\n",
      "1       0\n",
      "2       0\n",
      "3       0\n",
      "4       0\n",
      "       ..\n",
      "2813    1\n",
      "2814    1\n",
      "2815    1\n",
      "2816    1\n",
      "2817    1\n",
      "Length: 2818, dtype: object\n"
     ]
    }
   ],
   "source": [
    "er = pd.Series(y)\n",
    "print (\"ER\",er)\n",
    "X['label'] = pd.DataFrame(er)\n",
    "label = {'Real':0, 'Fake':1}\n",
    "\n"
   ]
  },
  {
   "cell_type": "code",
   "execution_count": 9,
   "metadata": {},
   "outputs": [],
   "source": [
    "import random\n",
    "from nltk.corpus import names"
   ]
  },
  {
   "cell_type": "code",
   "execution_count": 10,
   "metadata": {},
   "outputs": [
    {
     "data": {
      "text/plain": [
       "{'last_letter': 'a'}"
      ]
     },
     "execution_count": 10,
     "metadata": {},
     "output_type": "execute_result"
    }
   ],
   "source": [
    "\n",
    "def gender_features(word):\n",
    "    return {'last_letter': word[-1]}\n",
    "\n",
    "gender_features('amylia')\n"
   ]
  },
  {
   "cell_type": "code",
   "execution_count": 11,
   "metadata": {},
   "outputs": [
    {
     "name": "stderr",
     "output_type": "stream",
     "text": [
      "[nltk_data] Downloading package names to\n",
      "[nltk_data]     C:\\Users\\hp\\AppData\\Roaming\\nltk_data...\n",
      "[nltk_data]   Package names is already up-to-date!\n"
     ]
    },
    {
     "data": {
      "text/plain": [
       "True"
      ]
     },
     "execution_count": 11,
     "metadata": {},
     "output_type": "execute_result"
    }
   ],
   "source": [
    "nltk.download('names')"
   ]
  },
  {
   "cell_type": "code",
   "execution_count": 12,
   "metadata": {},
   "outputs": [],
   "source": [
    "names = ([(name, 'male') for name in names.words('male.txt')] +\n",
    "         [(name, 'female') for name in names.words('female.txt')])\n",
    "\n",
    "random.shuffle(names)"
   ]
  },
  {
   "cell_type": "code",
   "execution_count": 13,
   "metadata": {},
   "outputs": [
    {
     "name": "stdout",
     "output_type": "stream",
     "text": [
      "male\n"
     ]
    }
   ],
   "source": [
    "featuresets = [(gender_features(n), g) for (n,g) in names]\n",
    "\n",
    "train_set, test_set = featuresets[500:], featuresets[:500]\n",
    "\n",
    "classifier = nltk.NaiveBayesClassifier.train(train_set)\n",
    "\n",
    "print (classifier.classify(gender_features('Anat')))"
   ]
  },
  {
   "cell_type": "code",
   "execution_count": 14,
   "metadata": {},
   "outputs": [
    {
     "name": "stdout",
     "output_type": "stream",
     "text": [
      "0.7638366469639979\n"
     ]
    }
   ],
   "source": [
    "print(nltk.classify.accuracy(classifier, train_set))"
   ]
  },
  {
   "cell_type": "code",
   "execution_count": 15,
   "metadata": {},
   "outputs": [
    {
     "name": "stdout",
     "output_type": "stream",
     "text": [
      "Most Informative Features\n",
      "             last_letter = 'k'              male : female =     44.0 : 1.0\n",
      "             last_letter = 'a'            female : male   =     36.0 : 1.0\n",
      "             last_letter = 'f'              male : female =     15.8 : 1.0\n",
      "             last_letter = 'p'              male : female =     12.4 : 1.0\n",
      "             last_letter = 'v'              male : female =     11.1 : 1.0\n",
      "             last_letter = 'o'              male : female =      9.6 : 1.0\n",
      "             last_letter = 'm'              male : female =      9.5 : 1.0\n",
      "             last_letter = 'd'              male : female =      9.1 : 1.0\n",
      "             last_letter = 'r'              male : female =      6.6 : 1.0\n",
      "             last_letter = 'g'              male : female =      4.9 : 1.0\n"
     ]
    }
   ],
   "source": [
    "classifier.show_most_informative_features(10)"
   ]
  },
  {
   "cell_type": "code",
   "execution_count": 16,
   "metadata": {},
   "outputs": [],
   "source": [
    "def strToBinary(s):\n",
    "    bin_conv = []\n",
    "    for c in s:\n",
    "        ascii_val = ord(c)\n",
    "        binary_val = bin(ascii_val)\n",
    "        bin_conv.append(binary_val[2:])\n",
    "    num=''.join(bin_conv)\n",
    "    return num\n",
    "\n",
    "\n",
    "def binaryToDecimal(n):\n",
    "    num = int (n)\n",
    "    dec_value = 0\n",
    "    base = 1\n",
    "    temp = num\n",
    "        \n",
    "    while(temp):\n",
    "             last_digit = temp % 10\n",
    "             temp = int (temp / 10)\n",
    "             dec_value = last_digit* base\n",
    "             base = base*2\n",
    "            \n",
    "             return dec_value"
   ]
  },
  {
   "cell_type": "code",
   "execution_count": 17,
   "metadata": {},
   "outputs": [],
   "source": [
    "def extract_features(x):\n",
    "    lang_list = list(enumerate(np.unique(x['lang'])))   \n",
    "    lang_dict = { name : i for i, name in lang_list }             \n",
    "    x.loc[:,'lang_code'] = x['lang'].map( lambda x: lang_dict[x]).astype(int)    \n",
    "    x.loc[:,'sex_code']=predict_sex(x['name'])\n",
    "    feature_columns_to_use = ['statuses_count','followers_count','friends_count','favourites_count','listed_count']\n",
    "    x = x.loc[:,feature_columns_to_use]\n",
    "    \n",
    "   "
   ]
  },
  {
   "cell_type": "code",
   "execution_count": 18,
   "metadata": {},
   "outputs": [],
   "source": [
    " x_train,x_test,y_train,y_test = train_test_split(np.array(x),np.array(y),shuffle=True,test_size=0.3)\n",
    "  "
   ]
  },
  {
   "cell_type": "code",
   "execution_count": 19,
   "metadata": {},
   "outputs": [],
   "source": [
    "from tensorflow import keras\n",
    "from tensorflow.keras.utils import to_categorical\n",
    "from keras.models import Sequential\n",
    "from keras.layers import Dense, Dropout, Flatten\n",
    "from keras.optimizers import Adam\n"
   ]
  },
  {
   "cell_type": "code",
   "execution_count": 20,
   "metadata": {},
   "outputs": [],
   "source": [
    "num_epochs = 10\n",
    "num_classes = 2\n",
    "batch_size = 256\n",
    "input_shape = (1972,9)\n",
    "\n"
   ]
  },
  {
   "cell_type": "code",
   "execution_count": 21,
   "metadata": {},
   "outputs": [],
   "source": [
    "y_train_binary = keras.utils.to_categorical(y_train)\n",
    "y_test_binary = keras.utils.to_categorical(y_test)"
   ]
  },
  {
   "cell_type": "code",
   "execution_count": 22,
   "metadata": {},
   "outputs": [],
   "source": [
    "x_train =x_train.reshape(x_train.shape[0],x_train.shape[1],1)\n",
    "x_test =x_test.reshape(x_test.shape[0],x_test.shape[1],1)\n"
   ]
  },
  {
   "cell_type": "code",
   "execution_count": 23,
   "metadata": {},
   "outputs": [],
   "source": [
    "model_cnn = Sequential()\n",
    "model_cnn.add(Conv1D(64,(3), input_shape=(x_train.shape[1],1),activation='relu'))\n",
    "model_cnn.add(Flatten())\n",
    "model_cnn.add(Dense(256,activation='relu'))\n",
    "model_cnn.add(Dense(num_classes, activation='softmax'))"
   ]
  },
  {
   "cell_type": "code",
   "execution_count": 24,
   "metadata": {},
   "outputs": [
    {
     "name": "stdout",
     "output_type": "stream",
     "text": [
      "Model: \"sequential\"\n",
      "_________________________________________________________________\n",
      "Layer (type)                 Output Shape              Param #   \n",
      "=================================================================\n",
      "conv1d (Conv1D)              (None, 4, 64)             256       \n",
      "_________________________________________________________________\n",
      "flatten (Flatten)            (None, 256)               0         \n",
      "_________________________________________________________________\n",
      "dense (Dense)                (None, 256)               65792     \n",
      "_________________________________________________________________\n",
      "dense_1 (Dense)              (None, 2)                 514       \n",
      "=================================================================\n",
      "Total params: 66,562\n",
      "Trainable params: 66,562\n",
      "Non-trainable params: 0\n",
      "_________________________________________________________________\n"
     ]
    }
   ],
   "source": [
    "model_cnn.compile(optimizer='adam',loss='categorical_crossentropy', metrics=['accuracy'])\n",
    "model_cnn.summary()"
   ]
  },
  {
   "cell_type": "code",
   "execution_count": 25,
   "metadata": {},
   "outputs": [],
   "source": [
    "x_train=np.asarray(x_train).astype(np.float64)\n",
    "y_train=np.asarray(y_train).astype(np.float64)\n",
    "x_test=np.asarray(x_test).astype(np.float64)\n",
    "y_test=np.asarray(y_test).astype(np.float64)"
   ]
  },
  {
   "cell_type": "code",
   "execution_count": 26,
   "metadata": {},
   "outputs": [
    {
     "name": "stdout",
     "output_type": "stream",
     "text": [
      "Epoch 1/10\n",
      "8/8 [==============================] - 37s 126ms/step - loss: 71.5377 - accuracy: 0.5316 - val_loss: 95.0744 - val_accuracy: 0.9090\n",
      "Epoch 2/10\n",
      "8/8 [==============================] - 0s 6ms/step - loss: 17.0563 - accuracy: 0.9106 - val_loss: 89.1346 - val_accuracy: 0.8345\n",
      "Epoch 3/10\n",
      "8/8 [==============================] - 0s 6ms/step - loss: 14.7378 - accuracy: 0.8711 - val_loss: 52.1248 - val_accuracy: 0.8298\n",
      "Epoch 4/10\n",
      "8/8 [==============================] - 0s 6ms/step - loss: 5.9542 - accuracy: 0.8717 - val_loss: 27.3445 - val_accuracy: 0.8853\n",
      "Epoch 5/10\n",
      "8/8 [==============================] - 0s 6ms/step - loss: 2.7722 - accuracy: 0.8922 - val_loss: 27.9019 - val_accuracy: 0.9173\n",
      "Epoch 6/10\n",
      "8/8 [==============================] - 0s 6ms/step - loss: 3.3240 - accuracy: 0.9145 - val_loss: 23.5921 - val_accuracy: 0.8842\n",
      "Epoch 7/10\n",
      "8/8 [==============================] - 0s 6ms/step - loss: 1.6617 - accuracy: 0.9012 - val_loss: 18.7962 - val_accuracy: 0.9007\n",
      "Epoch 8/10\n",
      "8/8 [==============================] - 0s 6ms/step - loss: 1.4633 - accuracy: 0.9118 - val_loss: 33.2155 - val_accuracy: 0.9303\n",
      "Epoch 9/10\n",
      "8/8 [==============================] - 0s 5ms/step - loss: 5.1894 - accuracy: 0.9383 - val_loss: 23.9338 - val_accuracy: 0.9232\n",
      "Epoch 10/10\n",
      "8/8 [==============================] - 0s 5ms/step - loss: 1.9617 - accuracy: 0.9302 - val_loss: 16.7826 - val_accuracy: 0.9102\n"
     ]
    }
   ],
   "source": [
    "history=model_cnn.fit(x_train,y_train_binary,batch_size=batch_size,epochs=num_epochs,verbose=1,validation_data=(x_test,y_test_binary))"
   ]
  },
  {
   "cell_type": "code",
   "execution_count": 27,
   "metadata": {},
   "outputs": [
    {
     "name": "stdout",
     "output_type": "stream",
     "text": [
      "[[4.1582431e-03 9.9584168e-01]\n",
      " [6.6686323e-07 9.9999928e-01]\n",
      " [2.8630254e-01 7.1369749e-01]\n",
      " ...\n",
      " [9.9999630e-01 3.7507061e-06]\n",
      " [2.1141655e-13 1.0000000e+00]\n",
      " [1.7113784e-06 9.9999833e-01]]\n"
     ]
    }
   ],
   "source": [
    "y_pred_cnn=model_cnn.predict(x_test)\n",
    "print(y_pred_cnn)"
   ]
  },
  {
   "cell_type": "code",
   "execution_count": null,
   "metadata": {},
   "outputs": [],
   "source": [
    "thm = y_pred_cnn[0,0]\n",
    "tym= y_pred_cnn[0,1]"
   ]
  },
  {
   "cell_type": "code",
   "execution_count": null,
   "metadata": {},
   "outputs": [],
   "source": [
    "a = input (\"Enter the Name : \")\n",
    "username=classifier.classify(gender_features(a))\n",
    "print(username)\n",
    "s=username\n",
    "ln=[]\n",
    "for i in s:\n",
    "     k=0\n",
    "     c=strToBinary(i)\n",
    "     h=binaryToDecimal(c)\n",
    "     ln.append(h)\n",
    "name=sum(ln)\n",
    "if username ==\"male\":\n",
    "    gender=0\n",
    "else:\n",
    "    gender=1\n",
    "status_count=int(input(\"status_count:\"))\n",
    "followers_count=int(input(\"followers_count:\"))\n",
    "friends_count=int(input(\"friends_count:\"))\n",
    "favourites_count=int(input(\"favourites_count:\"))\n",
    "\n",
    "\n",
    "test = {\"name\":name,\"gender\":gender,\"status_count\":status_count,\"followers_count\":followers_count,\"friends_count\":friends_count,\"favourites_count\":favourites_count}\n",
    "de=pd.DataFrame(test,index=[0])\n",
    "de.to_csv(\"test.csv\")\n",
    "re=pd.read_csv(\"test.csv\")\n",
    "rs=re.iloc[:,1:9].values\n",
    "print(rs)\n",
    "print(rs.shape)\n",
    "\n",
    "rs=rs.reshape(1,6,1)"
   ]
  },
  {
   "cell_type": "code",
   "execution_count": null,
   "metadata": {},
   "outputs": [],
   "source": [
    "y_pred_cnn_input=model_cnn.predict(rs)\n",
    "print(y_pred_cnn_input)"
   ]
  },
  {
   "cell_type": "code",
   "execution_count": null,
   "metadata": {},
   "outputs": [],
   "source": [
    "first = y_pred_cnn_input.item(0)*100\n",
    "second = y_pred_cnn_input.item(1)*100"
   ]
  },
  {
   "cell_type": "code",
   "execution_count": null,
   "metadata": {},
   "outputs": [],
   "source": [
    "fig = plt.figure()\n",
    "ax = fig.add_axes([0,0,1,1])\n",
    "lab = ['Genuine Account', 'Fake Account']\n",
    "fea = [first, second]\n",
    "ax.pie(fea,labels = lab,autopct = '%1.2f%%')\n",
    "plt.show()"
   ]
  },
  {
   "cell_type": "code",
   "execution_count": null,
   "metadata": {},
   "outputs": [],
   "source": [
    "\n"
   ]
  }
 ],
 "metadata": {
  "kernelspec": {
   "display_name": "Python 3",
   "language": "python",
   "name": "python3"
  },
  "language_info": {
   "codemirror_mode": {
    "name": "ipython",
    "version": 3
   },
   "file_extension": ".py",
   "mimetype": "text/x-python",
   "name": "python",
   "nbconvert_exporter": "python",
   "pygments_lexer": "ipython3",
   "version": "3.8.3"
  }
 },
 "nbformat": 4,
 "nbformat_minor": 4
}
